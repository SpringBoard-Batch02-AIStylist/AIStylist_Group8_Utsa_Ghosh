{
 "cells": [
  {
   "cell_type": "code",
   "execution_count": 1,
   "id": "d74c4c22",
   "metadata": {},
   "outputs": [],
   "source": [
    "import numpy as np\n",
    "import os\n",
    "import tensorflow\n",
    "from tensorflow.keras.preprocessing import image\n",
    "from tensorflow.keras.layers import GlobalMaxPooling2D\n",
    "from tensorflow.keras.applications.resnet50 import ResNet50,preprocess_input\n",
    "from numpy.linalg import norm\n",
    "from tqdm import tqdm\n",
    "import pickle"
   ]
  },
  {
   "cell_type": "code",
   "execution_count": 2,
   "id": "3173e28e",
   "metadata": {},
   "outputs": [],
   "source": [
    "#resnet50 model\n",
    "model = ResNet50(weights='imagenet',include_top=False,input_shape=(224,224,3))\n",
    "model.trainable = False\n",
    "\n",
    "model = tensorflow.keras.Sequential([\n",
    "    model,\n",
    "    GlobalMaxPooling2D()\n",
    "])"
   ]
  },
  {
   "cell_type": "code",
   "execution_count": 3,
   "id": "3e207c6a",
   "metadata": {},
   "outputs": [],
   "source": [
    "#extracting features from all the images\n",
    "def extract_features(img_path,model):\n",
    "    img = image.load_img(img_path,target_size=(224,224))\n",
    "    img_array = image.img_to_array(img)\n",
    "    expanded_img_array = np.expand_dims(img_array, axis=0)\n",
    "    preprocessed_img = preprocess_input(expanded_img_array)\n",
    "    result = model.predict(preprocessed_img).flatten()\n",
    "    normalized_result = result / norm(result)\n",
    "    return normalized_result"
   ]
  },
  {
   "cell_type": "code",
   "execution_count": 6,
   "id": "14fff893",
   "metadata": {},
   "outputs": [],
   "source": [
    "#list of all images\n",
    "filenames = []\n",
    "\n",
    "for file in os.listdir('D:\\\\Infosys\\\\archive\\\\fashion-dataset\\\\images'):\n",
    "    filenames.append(os.path.join('D:\\\\Infosys\\\\archive\\\\fashion-dataset\\\\images',file))"
   ]
  },
  {
   "cell_type": "code",
   "execution_count": null,
   "id": "f95bb397",
   "metadata": {
    "scrolled": false
   },
   "outputs": [],
   "source": [
    "#list of extracted features from all the images\n",
    "feature_list = []\n",
    "\n",
    "for file in tqdm(filenames):\n",
    "    feature_list.append(extract_features(file,model))"
   ]
  },
  {
   "cell_type": "code",
   "execution_count": 8,
   "id": "84ce5ffb",
   "metadata": {},
   "outputs": [],
   "source": [
    "#pickling the final lists\n",
    "pickle.dump(feature_list,open('features.pkl','wb'))\n",
    "pickle.dump(filenames,open('images.pkl','wb'))"
   ]
  }
 ],
 "metadata": {
  "kernelspec": {
   "display_name": "Python 3 (ipykernel)",
   "language": "python",
   "name": "python3"
  },
  "language_info": {
   "codemirror_mode": {
    "name": "ipython",
    "version": 3
   },
   "file_extension": ".py",
   "mimetype": "text/x-python",
   "name": "python",
   "nbconvert_exporter": "python",
   "pygments_lexer": "ipython3",
   "version": "3.11.5"
  }
 },
 "nbformat": 4,
 "nbformat_minor": 5
}
